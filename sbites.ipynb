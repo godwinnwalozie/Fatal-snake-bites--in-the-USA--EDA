{
 "cells": [
  {
   "cell_type": "markdown",
   "id": "41ef3c0b-df01-4cf6-bbdc-4410a6b9fa75",
   "metadata": {},
   "source": [
    "# My data Analysis of Fatal Snake Bites in the US\n",
    "Deaths caused by snakes in the United States\n",
    "### https://www.kaggle.com/datasets/danela/fatal-snake-bites-in-the-us"
   ]
  },
  {
   "cell_type": "markdown",
   "id": "9c43a258-12c5-42a8-ac16-c3f5e807c7b7",
   "metadata": {},
   "source": [
    "# Data on deadly snake bites in the United States scraped from Wikipedia, \n",
    "coordinates added. Personal information, location as well as type of snake contained in the dataset."
   ]
  },
  {
   "cell_type": "code",
   "execution_count": 29,
   "id": "e45eb741-fb82-435b-8959-5ae60280e7b1",
   "metadata": {},
   "outputs": [],
   "source": [
    "import pandas as pd\n",
    "import numpy as np\n",
    "import matplotlib.pyplot as plt\n",
    "import seaborn as sns\n",
    "%matplotlib inline\n",
    "from datetime import datetime\n",
    "from dateutil import parser\n",
    "sns.set_style(\"dark\")"
   ]
  },
  {
   "cell_type": "code",
   "execution_count": 30,
   "id": "762769aa-d8eb-4a68-8a5c-c57033013180",
   "metadata": {},
   "outputs": [
    {
     "data": {
      "text/html": [
       "<div>\n",
       "<style scoped>\n",
       "    .dataframe tbody tr th:only-of-type {\n",
       "        vertical-align: middle;\n",
       "    }\n",
       "\n",
       "    .dataframe tbody tr th {\n",
       "        vertical-align: top;\n",
       "    }\n",
       "\n",
       "    .dataframe thead th {\n",
       "        text-align: right;\n",
       "    }\n",
       "</style>\n",
       "<table border=\"1\" class=\"dataframe\">\n",
       "  <thead>\n",
       "    <tr style=\"text-align: right;\">\n",
       "      <th></th>\n",
       "      <th>Name, Age, Gender</th>\n",
       "      <th>Date</th>\n",
       "      <th>Species</th>\n",
       "      <th>Location</th>\n",
       "      <th>Latitude</th>\n",
       "      <th>Longitude</th>\n",
       "    </tr>\n",
       "  </thead>\n",
       "  <tbody>\n",
       "    <tr>\n",
       "      <th>0</th>\n",
       "      <td>Priscilla Meridith, 62, female</td>\n",
       "      <td>June 12, 2019</td>\n",
       "      <td>Timber rattlesnake</td>\n",
       "      <td>Waverly, Georgia</td>\n",
       "      <td>31.096630</td>\n",
       "      <td>-81.725230</td>\n",
       "    </tr>\n",
       "    <tr>\n",
       "      <th>1</th>\n",
       "      <td>Oliver \"Chum\" Baker, 52, male</td>\n",
       "      <td>May 25, 2019</td>\n",
       "      <td>Copperhead</td>\n",
       "      <td>Winston County, Alabama</td>\n",
       "      <td>34.149258</td>\n",
       "      <td>-87.373724</td>\n",
       "    </tr>\n",
       "    <tr>\n",
       "      <th>2</th>\n",
       "      <td>Lawrence Walters, 70, male</td>\n",
       "      <td>June 4, 2018</td>\n",
       "      <td>Rattlesnake</td>\n",
       "      <td>Spearfish, South Dakota</td>\n",
       "      <td>44.490570</td>\n",
       "      <td>-103.859090</td>\n",
       "    </tr>\n",
       "    <tr>\n",
       "      <th>3</th>\n",
       "      <td>Barry Lester, 57, male</td>\n",
       "      <td>April 29, 2018</td>\n",
       "      <td>Rattlesnake</td>\n",
       "      <td>Osage County, Oklahoma</td>\n",
       "      <td>36.629182</td>\n",
       "      <td>-96.398426</td>\n",
       "    </tr>\n",
       "    <tr>\n",
       "      <th>4</th>\n",
       "      <td>Daniel Hohs, 31, male</td>\n",
       "      <td>October 7, 2017</td>\n",
       "      <td>Rattlesnake</td>\n",
       "      <td>Golden, Colorado</td>\n",
       "      <td>39.756650</td>\n",
       "      <td>-105.224950</td>\n",
       "    </tr>\n",
       "    <tr>\n",
       "      <th>...</th>\n",
       "      <td>...</td>\n",
       "      <td>...</td>\n",
       "      <td>...</td>\n",
       "      <td>...</td>\n",
       "      <td>...</td>\n",
       "      <td>...</td>\n",
       "    </tr>\n",
       "    <tr>\n",
       "      <th>77</th>\n",
       "      <td>Frederick Louis Niemann, male</td>\n",
       "      <td>1873</td>\n",
       "      <td>Rattlesnake</td>\n",
       "      <td>Saline County, Kansas</td>\n",
       "      <td>38.783790</td>\n",
       "      <td>-97.649908</td>\n",
       "    </tr>\n",
       "    <tr>\n",
       "      <th>78</th>\n",
       "      <td>William A. Perrin, male</td>\n",
       "      <td>1859</td>\n",
       "      <td>Rattlesnake</td>\n",
       "      <td>Augusta County, Virginia</td>\n",
       "      <td>38.164451</td>\n",
       "      <td>-79.133895</td>\n",
       "    </tr>\n",
       "    <tr>\n",
       "      <th>79</th>\n",
       "      <td>H. M. Pettigrew, 31, male</td>\n",
       "      <td>August 15, 1841</td>\n",
       "      <td>Rattlesnake</td>\n",
       "      <td>Fannin County, Texas</td>\n",
       "      <td>33.593096</td>\n",
       "      <td>-96.106959</td>\n",
       "    </tr>\n",
       "    <tr>\n",
       "      <th>80</th>\n",
       "      <td>Unknown person</td>\n",
       "      <td>1791</td>\n",
       "      <td>Timber rattlesnake</td>\n",
       "      <td>Massachusetts</td>\n",
       "      <td>42.358670</td>\n",
       "      <td>-71.718185</td>\n",
       "    </tr>\n",
       "    <tr>\n",
       "      <th>81</th>\n",
       "      <td>Child, 5 or 6</td>\n",
       "      <td>August 28, 1790</td>\n",
       "      <td>Rattlesnake</td>\n",
       "      <td>Hardwick, Massachusetts</td>\n",
       "      <td>42.366740</td>\n",
       "      <td>-72.184940</td>\n",
       "    </tr>\n",
       "  </tbody>\n",
       "</table>\n",
       "<p>82 rows × 6 columns</p>\n",
       "</div>"
      ],
      "text/plain": [
       "                 Name, Age, Gender             Date              Species  \\\n",
       "0   Priscilla Meridith, 62, female    June 12, 2019   Timber rattlesnake   \n",
       "1    Oliver \"Chum\" Baker, 52, male     May 25, 2019           Copperhead   \n",
       "2       Lawrence Walters, 70, male     June 4, 2018          Rattlesnake   \n",
       "3           Barry Lester, 57, male   April 29, 2018          Rattlesnake   \n",
       "4            Daniel Hohs, 31, male  October 7, 2017          Rattlesnake   \n",
       "..                             ...              ...                  ...   \n",
       "77   Frederick Louis Niemann, male             1873          Rattlesnake   \n",
       "78         William A. Perrin, male             1859          Rattlesnake   \n",
       "79       H. M. Pettigrew, 31, male  August 15, 1841          Rattlesnake   \n",
       "80                 Unknown person             1791   Timber rattlesnake    \n",
       "81                   Child, 5 or 6  August 28, 1790          Rattlesnake   \n",
       "\n",
       "                    Location   Latitude   Longitude  \n",
       "0           Waverly, Georgia  31.096630  -81.725230  \n",
       "1    Winston County, Alabama  34.149258  -87.373724  \n",
       "2    Spearfish, South Dakota  44.490570 -103.859090  \n",
       "3     Osage County, Oklahoma  36.629182  -96.398426  \n",
       "4           Golden, Colorado  39.756650 -105.224950  \n",
       "..                       ...        ...         ...  \n",
       "77     Saline County, Kansas  38.783790  -97.649908  \n",
       "78  Augusta County, Virginia  38.164451  -79.133895  \n",
       "79      Fannin County, Texas  33.593096  -96.106959  \n",
       "80             Massachusetts  42.358670  -71.718185  \n",
       "81   Hardwick, Massachusetts  42.366740  -72.184940  \n",
       "\n",
       "[82 rows x 6 columns]"
      ]
     },
     "execution_count": 30,
     "metadata": {},
     "output_type": "execute_result"
    }
   ],
   "source": [
    "sb = pd.read_csv('snake_bites.csv')\n",
    "sb"
   ]
  },
  {
   "cell_type": "code",
   "execution_count": 31,
   "id": "4b0c2a82-ed37-473b-8605-9b0cb717188a",
   "metadata": {},
   "outputs": [
    {
     "name": "stdout",
     "output_type": "stream",
     "text": [
      "<class 'pandas.core.frame.DataFrame'>\n",
      "RangeIndex: 82 entries, 0 to 81\n",
      "Data columns (total 6 columns):\n",
      " #   Column             Non-Null Count  Dtype  \n",
      "---  ------             --------------  -----  \n",
      " 0   Name, Age, Gender  82 non-null     object \n",
      " 1   Date               82 non-null     object \n",
      " 2   Species            82 non-null     object \n",
      " 3   Location           82 non-null     object \n",
      " 4   Latitude           82 non-null     float64\n",
      " 5   Longitude          82 non-null     float64\n",
      "dtypes: float64(2), object(4)\n",
      "memory usage: 4.0+ KB\n"
     ]
    }
   ],
   "source": [
    "sb.info()"
   ]
  },
  {
   "cell_type": "code",
   "execution_count": 32,
   "id": "3daf7842-6810-4a35-8ad1-b27be2d21fb2",
   "metadata": {},
   "outputs": [
    {
     "data": {
      "text/plain": [
       "(82, 6)"
      ]
     },
     "execution_count": 32,
     "metadata": {},
     "output_type": "execute_result"
    }
   ],
   "source": [
    "sb.shape"
   ]
  },
  {
   "cell_type": "markdown",
   "id": "d867e3a9-54aa-4183-862c-8d75d7d75bb6",
   "metadata": {},
   "source": [
    "# Cleaning up dataset = sperating Name, Age and Gender into columns"
   ]
  },
  {
   "cell_type": "code",
   "execution_count": 33,
   "id": "cef66605-0b2e-40c8-9293-62eeb1f2982b",
   "metadata": {},
   "outputs": [],
   "source": [
    "# extract age\n",
    "sb['Age'] = sb[\"Name, Age, Gender\"].str.replace(\"\\D\",\"\",regex = True)"
   ]
  },
  {
   "cell_type": "code",
   "execution_count": 34,
   "id": "a21eced6-cc06-487d-b522-7fdb64f5c20c",
   "metadata": {},
   "outputs": [
    {
     "data": {
      "text/html": [
       "<div>\n",
       "<style scoped>\n",
       "    .dataframe tbody tr th:only-of-type {\n",
       "        vertical-align: middle;\n",
       "    }\n",
       "\n",
       "    .dataframe tbody tr th {\n",
       "        vertical-align: top;\n",
       "    }\n",
       "\n",
       "    .dataframe thead th {\n",
       "        text-align: right;\n",
       "    }\n",
       "</style>\n",
       "<table border=\"1\" class=\"dataframe\">\n",
       "  <thead>\n",
       "    <tr style=\"text-align: right;\">\n",
       "      <th></th>\n",
       "      <th>Name, Age, Gender</th>\n",
       "      <th>Date</th>\n",
       "      <th>Species</th>\n",
       "      <th>Location</th>\n",
       "      <th>Latitude</th>\n",
       "      <th>Longitude</th>\n",
       "      <th>Age</th>\n",
       "    </tr>\n",
       "  </thead>\n",
       "  <tbody>\n",
       "    <tr>\n",
       "      <th>0</th>\n",
       "      <td>Priscilla Meridith, 62, female</td>\n",
       "      <td>June 12, 2019</td>\n",
       "      <td>Timber rattlesnake</td>\n",
       "      <td>Waverly, Georgia</td>\n",
       "      <td>31.096630</td>\n",
       "      <td>-81.725230</td>\n",
       "      <td>62</td>\n",
       "    </tr>\n",
       "    <tr>\n",
       "      <th>1</th>\n",
       "      <td>Oliver \"Chum\" Baker, 52, male</td>\n",
       "      <td>May 25, 2019</td>\n",
       "      <td>Copperhead</td>\n",
       "      <td>Winston County, Alabama</td>\n",
       "      <td>34.149258</td>\n",
       "      <td>-87.373724</td>\n",
       "      <td>52</td>\n",
       "    </tr>\n",
       "    <tr>\n",
       "      <th>2</th>\n",
       "      <td>Lawrence Walters, 70, male</td>\n",
       "      <td>June 4, 2018</td>\n",
       "      <td>Rattlesnake</td>\n",
       "      <td>Spearfish, South Dakota</td>\n",
       "      <td>44.490570</td>\n",
       "      <td>-103.859090</td>\n",
       "      <td>70</td>\n",
       "    </tr>\n",
       "    <tr>\n",
       "      <th>3</th>\n",
       "      <td>Barry Lester, 57, male</td>\n",
       "      <td>April 29, 2018</td>\n",
       "      <td>Rattlesnake</td>\n",
       "      <td>Osage County, Oklahoma</td>\n",
       "      <td>36.629182</td>\n",
       "      <td>-96.398426</td>\n",
       "      <td>57</td>\n",
       "    </tr>\n",
       "    <tr>\n",
       "      <th>4</th>\n",
       "      <td>Daniel Hohs, 31, male</td>\n",
       "      <td>October 7, 2017</td>\n",
       "      <td>Rattlesnake</td>\n",
       "      <td>Golden, Colorado</td>\n",
       "      <td>39.756650</td>\n",
       "      <td>-105.224950</td>\n",
       "      <td>31</td>\n",
       "    </tr>\n",
       "  </tbody>\n",
       "</table>\n",
       "</div>"
      ],
      "text/plain": [
       "                Name, Age, Gender             Date             Species  \\\n",
       "0  Priscilla Meridith, 62, female    June 12, 2019  Timber rattlesnake   \n",
       "1   Oliver \"Chum\" Baker, 52, male     May 25, 2019          Copperhead   \n",
       "2      Lawrence Walters, 70, male     June 4, 2018         Rattlesnake   \n",
       "3          Barry Lester, 57, male   April 29, 2018         Rattlesnake   \n",
       "4           Daniel Hohs, 31, male  October 7, 2017         Rattlesnake   \n",
       "\n",
       "                  Location   Latitude   Longitude Age  \n",
       "0         Waverly, Georgia  31.096630  -81.725230  62  \n",
       "1  Winston County, Alabama  34.149258  -87.373724  52  \n",
       "2  Spearfish, South Dakota  44.490570 -103.859090  70  \n",
       "3   Osage County, Oklahoma  36.629182  -96.398426  57  \n",
       "4         Golden, Colorado  39.756650 -105.224950  31  "
      ]
     },
     "execution_count": 34,
     "metadata": {},
     "output_type": "execute_result"
    }
   ],
   "source": [
    "sb.head()"
   ]
  },
  {
   "cell_type": "code",
   "execution_count": 35,
   "id": "43968c75-cd7e-4c3b-8705-fcc3c16fe90b",
   "metadata": {},
   "outputs": [],
   "source": [
    "# extract gender\n",
    "gender = []\n",
    "for i in sb['Name, Age, Gender']:\n",
    "    if \"female\" in i:\n",
    "        gender.append(\"female\")\n",
    "    else:\n",
    "        gender.append('male')"
   ]
  },
  {
   "cell_type": "code",
   "execution_count": 36,
   "id": "a84a46d6-161e-423a-a354-e24bea5ddc43",
   "metadata": {},
   "outputs": [],
   "source": [
    "sb['Gender'] = gender"
   ]
  },
  {
   "cell_type": "code",
   "execution_count": 37,
   "id": "031f77a2-e1a4-4731-b010-4ac9f129ba95",
   "metadata": {},
   "outputs": [
    {
     "data": {
      "text/html": [
       "<div>\n",
       "<style scoped>\n",
       "    .dataframe tbody tr th:only-of-type {\n",
       "        vertical-align: middle;\n",
       "    }\n",
       "\n",
       "    .dataframe tbody tr th {\n",
       "        vertical-align: top;\n",
       "    }\n",
       "\n",
       "    .dataframe thead th {\n",
       "        text-align: right;\n",
       "    }\n",
       "</style>\n",
       "<table border=\"1\" class=\"dataframe\">\n",
       "  <thead>\n",
       "    <tr style=\"text-align: right;\">\n",
       "      <th></th>\n",
       "      <th>Name, Age, Gender</th>\n",
       "      <th>Date</th>\n",
       "      <th>Species</th>\n",
       "      <th>Location</th>\n",
       "      <th>Latitude</th>\n",
       "      <th>Longitude</th>\n",
       "      <th>Age</th>\n",
       "      <th>Gender</th>\n",
       "    </tr>\n",
       "  </thead>\n",
       "  <tbody>\n",
       "    <tr>\n",
       "      <th>0</th>\n",
       "      <td>Priscilla Meridith, 62, female</td>\n",
       "      <td>June 12, 2019</td>\n",
       "      <td>Timber rattlesnake</td>\n",
       "      <td>Waverly, Georgia</td>\n",
       "      <td>31.096630</td>\n",
       "      <td>-81.725230</td>\n",
       "      <td>62</td>\n",
       "      <td>female</td>\n",
       "    </tr>\n",
       "    <tr>\n",
       "      <th>1</th>\n",
       "      <td>Oliver \"Chum\" Baker, 52, male</td>\n",
       "      <td>May 25, 2019</td>\n",
       "      <td>Copperhead</td>\n",
       "      <td>Winston County, Alabama</td>\n",
       "      <td>34.149258</td>\n",
       "      <td>-87.373724</td>\n",
       "      <td>52</td>\n",
       "      <td>male</td>\n",
       "    </tr>\n",
       "    <tr>\n",
       "      <th>2</th>\n",
       "      <td>Lawrence Walters, 70, male</td>\n",
       "      <td>June 4, 2018</td>\n",
       "      <td>Rattlesnake</td>\n",
       "      <td>Spearfish, South Dakota</td>\n",
       "      <td>44.490570</td>\n",
       "      <td>-103.859090</td>\n",
       "      <td>70</td>\n",
       "      <td>male</td>\n",
       "    </tr>\n",
       "    <tr>\n",
       "      <th>3</th>\n",
       "      <td>Barry Lester, 57, male</td>\n",
       "      <td>April 29, 2018</td>\n",
       "      <td>Rattlesnake</td>\n",
       "      <td>Osage County, Oklahoma</td>\n",
       "      <td>36.629182</td>\n",
       "      <td>-96.398426</td>\n",
       "      <td>57</td>\n",
       "      <td>male</td>\n",
       "    </tr>\n",
       "    <tr>\n",
       "      <th>4</th>\n",
       "      <td>Daniel Hohs, 31, male</td>\n",
       "      <td>October 7, 2017</td>\n",
       "      <td>Rattlesnake</td>\n",
       "      <td>Golden, Colorado</td>\n",
       "      <td>39.756650</td>\n",
       "      <td>-105.224950</td>\n",
       "      <td>31</td>\n",
       "      <td>male</td>\n",
       "    </tr>\n",
       "  </tbody>\n",
       "</table>\n",
       "</div>"
      ],
      "text/plain": [
       "                Name, Age, Gender             Date             Species  \\\n",
       "0  Priscilla Meridith, 62, female    June 12, 2019  Timber rattlesnake   \n",
       "1   Oliver \"Chum\" Baker, 52, male     May 25, 2019          Copperhead   \n",
       "2      Lawrence Walters, 70, male     June 4, 2018         Rattlesnake   \n",
       "3          Barry Lester, 57, male   April 29, 2018         Rattlesnake   \n",
       "4           Daniel Hohs, 31, male  October 7, 2017         Rattlesnake   \n",
       "\n",
       "                  Location   Latitude   Longitude Age  Gender  \n",
       "0         Waverly, Georgia  31.096630  -81.725230  62  female  \n",
       "1  Winston County, Alabama  34.149258  -87.373724  52    male  \n",
       "2  Spearfish, South Dakota  44.490570 -103.859090  70    male  \n",
       "3   Osage County, Oklahoma  36.629182  -96.398426  57    male  \n",
       "4         Golden, Colorado  39.756650 -105.224950  31    male  "
      ]
     },
     "execution_count": 37,
     "metadata": {},
     "output_type": "execute_result"
    }
   ],
   "source": [
    "sb.head()"
   ]
  },
  {
   "cell_type": "code",
   "execution_count": 38,
   "id": "99541f85-35ec-4fc7-bd60-951505baca43",
   "metadata": {},
   "outputs": [],
   "source": [
    "# extract name"
   ]
  },
  {
   "cell_type": "code",
   "execution_count": 39,
   "id": "b256b5f0-f3ad-4a5a-bae4-b9642780c6e9",
   "metadata": {},
   "outputs": [],
   "source": [
    "sb['Name'] = sb['Name, Age, Gender'].str.replace(\"[\\d$,\\\"]\",\"\", regex = True).str.replace(\"female\",\"\").str.replace(\"male\", \"\")"
   ]
  },
  {
   "cell_type": "code",
   "execution_count": 40,
   "id": "fad87239-66d1-4ca1-ad58-5e979e224f91",
   "metadata": {},
   "outputs": [],
   "source": [
    "sb = sb.reindex(['Name', \"Gender\",'Age','Date', 'Species', 'Location', 'Latitude', 'Longitude'], axis = 1)"
   ]
  },
  {
   "cell_type": "code",
   "execution_count": 41,
   "id": "f079d63f-9566-402f-9c2c-1844974ff042",
   "metadata": {},
   "outputs": [
    {
     "name": "stdout",
     "output_type": "stream",
     "text": [
      "['Name', 'Gender', 'Age', 'Date', 'Species', 'Location', 'Latitude', 'Longitude']\n"
     ]
    }
   ],
   "source": [
    "print([i for i in sb.columns])"
   ]
  },
  {
   "cell_type": "code",
   "execution_count": 42,
   "id": "165185a6-fc8c-42e8-8557-7194c78ad75b",
   "metadata": {},
   "outputs": [
    {
     "data": {
      "text/html": [
       "<div>\n",
       "<style scoped>\n",
       "    .dataframe tbody tr th:only-of-type {\n",
       "        vertical-align: middle;\n",
       "    }\n",
       "\n",
       "    .dataframe tbody tr th {\n",
       "        vertical-align: top;\n",
       "    }\n",
       "\n",
       "    .dataframe thead th {\n",
       "        text-align: right;\n",
       "    }\n",
       "</style>\n",
       "<table border=\"1\" class=\"dataframe\">\n",
       "  <thead>\n",
       "    <tr style=\"text-align: right;\">\n",
       "      <th></th>\n",
       "      <th>Name</th>\n",
       "      <th>Gender</th>\n",
       "      <th>Age</th>\n",
       "      <th>Date</th>\n",
       "      <th>Species</th>\n",
       "      <th>Location</th>\n",
       "      <th>Latitude</th>\n",
       "      <th>Longitude</th>\n",
       "    </tr>\n",
       "  </thead>\n",
       "  <tbody>\n",
       "    <tr>\n",
       "      <th>0</th>\n",
       "      <td>Priscilla Meridith</td>\n",
       "      <td>female</td>\n",
       "      <td>62</td>\n",
       "      <td>June 12, 2019</td>\n",
       "      <td>Timber rattlesnake</td>\n",
       "      <td>Waverly, Georgia</td>\n",
       "      <td>31.096630</td>\n",
       "      <td>-81.725230</td>\n",
       "    </tr>\n",
       "    <tr>\n",
       "      <th>1</th>\n",
       "      <td>Oliver Chum Baker</td>\n",
       "      <td>male</td>\n",
       "      <td>52</td>\n",
       "      <td>May 25, 2019</td>\n",
       "      <td>Copperhead</td>\n",
       "      <td>Winston County, Alabama</td>\n",
       "      <td>34.149258</td>\n",
       "      <td>-87.373724</td>\n",
       "    </tr>\n",
       "    <tr>\n",
       "      <th>2</th>\n",
       "      <td>Lawrence Walters</td>\n",
       "      <td>male</td>\n",
       "      <td>70</td>\n",
       "      <td>June 4, 2018</td>\n",
       "      <td>Rattlesnake</td>\n",
       "      <td>Spearfish, South Dakota</td>\n",
       "      <td>44.490570</td>\n",
       "      <td>-103.859090</td>\n",
       "    </tr>\n",
       "    <tr>\n",
       "      <th>3</th>\n",
       "      <td>Barry Lester</td>\n",
       "      <td>male</td>\n",
       "      <td>57</td>\n",
       "      <td>April 29, 2018</td>\n",
       "      <td>Rattlesnake</td>\n",
       "      <td>Osage County, Oklahoma</td>\n",
       "      <td>36.629182</td>\n",
       "      <td>-96.398426</td>\n",
       "    </tr>\n",
       "    <tr>\n",
       "      <th>4</th>\n",
       "      <td>Daniel Hohs</td>\n",
       "      <td>male</td>\n",
       "      <td>31</td>\n",
       "      <td>October 7, 2017</td>\n",
       "      <td>Rattlesnake</td>\n",
       "      <td>Golden, Colorado</td>\n",
       "      <td>39.756650</td>\n",
       "      <td>-105.224950</td>\n",
       "    </tr>\n",
       "  </tbody>\n",
       "</table>\n",
       "</div>"
      ],
      "text/plain": [
       "                   Name  Gender Age             Date             Species  \\\n",
       "0  Priscilla Meridith    female  62    June 12, 2019  Timber rattlesnake   \n",
       "1   Oliver Chum Baker      male  52     May 25, 2019          Copperhead   \n",
       "2    Lawrence Walters      male  70     June 4, 2018         Rattlesnake   \n",
       "3        Barry Lester      male  57   April 29, 2018         Rattlesnake   \n",
       "4         Daniel Hohs      male  31  October 7, 2017         Rattlesnake   \n",
       "\n",
       "                  Location   Latitude   Longitude  \n",
       "0         Waverly, Georgia  31.096630  -81.725230  \n",
       "1  Winston County, Alabama  34.149258  -87.373724  \n",
       "2  Spearfish, South Dakota  44.490570 -103.859090  \n",
       "3   Osage County, Oklahoma  36.629182  -96.398426  \n",
       "4         Golden, Colorado  39.756650 -105.224950  "
      ]
     },
     "execution_count": 42,
     "metadata": {},
     "output_type": "execute_result"
    }
   ],
   "source": [
    "sb.head()"
   ]
  },
  {
   "cell_type": "markdown",
   "id": "47d93994-e998-49b5-a3bd-da98441af8f4",
   "metadata": {},
   "source": [
    "# Convert date to datetime"
   ]
  },
  {
   "cell_type": "code",
   "execution_count": 43,
   "id": "ba5d2c54-c45f-4ebb-8fd3-88aa58cee32c",
   "metadata": {},
   "outputs": [],
   "source": [
    "sb.Date= pd.to_datetime(sb.Date,errors='coerce')"
   ]
  },
  {
   "cell_type": "code",
   "execution_count": 44,
   "id": "972815ff-f914-4701-9a26-456d43e25d17",
   "metadata": {},
   "outputs": [
    {
     "data": {
      "text/html": [
       "<div>\n",
       "<style scoped>\n",
       "    .dataframe tbody tr th:only-of-type {\n",
       "        vertical-align: middle;\n",
       "    }\n",
       "\n",
       "    .dataframe tbody tr th {\n",
       "        vertical-align: top;\n",
       "    }\n",
       "\n",
       "    .dataframe thead th {\n",
       "        text-align: right;\n",
       "    }\n",
       "</style>\n",
       "<table border=\"1\" class=\"dataframe\">\n",
       "  <thead>\n",
       "    <tr style=\"text-align: right;\">\n",
       "      <th></th>\n",
       "      <th>Name</th>\n",
       "      <th>Gender</th>\n",
       "      <th>Age</th>\n",
       "      <th>Date</th>\n",
       "      <th>Species</th>\n",
       "      <th>Location</th>\n",
       "      <th>Latitude</th>\n",
       "      <th>Longitude</th>\n",
       "    </tr>\n",
       "  </thead>\n",
       "  <tbody>\n",
       "    <tr>\n",
       "      <th>0</th>\n",
       "      <td>Priscilla Meridith</td>\n",
       "      <td>female</td>\n",
       "      <td>62</td>\n",
       "      <td>2019-06-12</td>\n",
       "      <td>Timber rattlesnake</td>\n",
       "      <td>Waverly, Georgia</td>\n",
       "      <td>31.096630</td>\n",
       "      <td>-81.725230</td>\n",
       "    </tr>\n",
       "    <tr>\n",
       "      <th>1</th>\n",
       "      <td>Oliver Chum Baker</td>\n",
       "      <td>male</td>\n",
       "      <td>52</td>\n",
       "      <td>2019-05-25</td>\n",
       "      <td>Copperhead</td>\n",
       "      <td>Winston County, Alabama</td>\n",
       "      <td>34.149258</td>\n",
       "      <td>-87.373724</td>\n",
       "    </tr>\n",
       "    <tr>\n",
       "      <th>2</th>\n",
       "      <td>Lawrence Walters</td>\n",
       "      <td>male</td>\n",
       "      <td>70</td>\n",
       "      <td>2018-06-04</td>\n",
       "      <td>Rattlesnake</td>\n",
       "      <td>Spearfish, South Dakota</td>\n",
       "      <td>44.490570</td>\n",
       "      <td>-103.859090</td>\n",
       "    </tr>\n",
       "    <tr>\n",
       "      <th>3</th>\n",
       "      <td>Barry Lester</td>\n",
       "      <td>male</td>\n",
       "      <td>57</td>\n",
       "      <td>2018-04-29</td>\n",
       "      <td>Rattlesnake</td>\n",
       "      <td>Osage County, Oklahoma</td>\n",
       "      <td>36.629182</td>\n",
       "      <td>-96.398426</td>\n",
       "    </tr>\n",
       "    <tr>\n",
       "      <th>4</th>\n",
       "      <td>Daniel Hohs</td>\n",
       "      <td>male</td>\n",
       "      <td>31</td>\n",
       "      <td>2017-10-07</td>\n",
       "      <td>Rattlesnake</td>\n",
       "      <td>Golden, Colorado</td>\n",
       "      <td>39.756650</td>\n",
       "      <td>-105.224950</td>\n",
       "    </tr>\n",
       "    <tr>\n",
       "      <th>...</th>\n",
       "      <td>...</td>\n",
       "      <td>...</td>\n",
       "      <td>...</td>\n",
       "      <td>...</td>\n",
       "      <td>...</td>\n",
       "      <td>...</td>\n",
       "      <td>...</td>\n",
       "      <td>...</td>\n",
       "    </tr>\n",
       "    <tr>\n",
       "      <th>77</th>\n",
       "      <td>Frederick Louis Niemann</td>\n",
       "      <td>male</td>\n",
       "      <td></td>\n",
       "      <td>1873-01-01</td>\n",
       "      <td>Rattlesnake</td>\n",
       "      <td>Saline County, Kansas</td>\n",
       "      <td>38.783790</td>\n",
       "      <td>-97.649908</td>\n",
       "    </tr>\n",
       "    <tr>\n",
       "      <th>78</th>\n",
       "      <td>William A. Perrin</td>\n",
       "      <td>male</td>\n",
       "      <td></td>\n",
       "      <td>1859-01-01</td>\n",
       "      <td>Rattlesnake</td>\n",
       "      <td>Augusta County, Virginia</td>\n",
       "      <td>38.164451</td>\n",
       "      <td>-79.133895</td>\n",
       "    </tr>\n",
       "    <tr>\n",
       "      <th>79</th>\n",
       "      <td>H. M. Pettigrew</td>\n",
       "      <td>male</td>\n",
       "      <td>31</td>\n",
       "      <td>1841-08-15</td>\n",
       "      <td>Rattlesnake</td>\n",
       "      <td>Fannin County, Texas</td>\n",
       "      <td>33.593096</td>\n",
       "      <td>-96.106959</td>\n",
       "    </tr>\n",
       "    <tr>\n",
       "      <th>80</th>\n",
       "      <td>Unknown person</td>\n",
       "      <td>male</td>\n",
       "      <td></td>\n",
       "      <td>1791-01-01</td>\n",
       "      <td>Timber rattlesnake</td>\n",
       "      <td>Massachusetts</td>\n",
       "      <td>42.358670</td>\n",
       "      <td>-71.718185</td>\n",
       "    </tr>\n",
       "    <tr>\n",
       "      <th>81</th>\n",
       "      <td>Child  or</td>\n",
       "      <td>male</td>\n",
       "      <td>56</td>\n",
       "      <td>1790-08-28</td>\n",
       "      <td>Rattlesnake</td>\n",
       "      <td>Hardwick, Massachusetts</td>\n",
       "      <td>42.366740</td>\n",
       "      <td>-72.184940</td>\n",
       "    </tr>\n",
       "  </tbody>\n",
       "</table>\n",
       "<p>82 rows × 8 columns</p>\n",
       "</div>"
      ],
      "text/plain": [
       "                        Name  Gender Age       Date              Species  \\\n",
       "0       Priscilla Meridith    female  62 2019-06-12   Timber rattlesnake   \n",
       "1        Oliver Chum Baker      male  52 2019-05-25           Copperhead   \n",
       "2         Lawrence Walters      male  70 2018-06-04          Rattlesnake   \n",
       "3             Barry Lester      male  57 2018-04-29          Rattlesnake   \n",
       "4              Daniel Hohs      male  31 2017-10-07          Rattlesnake   \n",
       "..                       ...     ...  ..        ...                  ...   \n",
       "77  Frederick Louis Niemann     male     1873-01-01          Rattlesnake   \n",
       "78        William A. Perrin     male     1859-01-01          Rattlesnake   \n",
       "79         H. M. Pettigrew      male  31 1841-08-15          Rattlesnake   \n",
       "80           Unknown person     male     1791-01-01  Timber rattlesnake    \n",
       "81                Child  or     male  56 1790-08-28          Rattlesnake   \n",
       "\n",
       "                    Location   Latitude   Longitude  \n",
       "0           Waverly, Georgia  31.096630  -81.725230  \n",
       "1    Winston County, Alabama  34.149258  -87.373724  \n",
       "2    Spearfish, South Dakota  44.490570 -103.859090  \n",
       "3     Osage County, Oklahoma  36.629182  -96.398426  \n",
       "4           Golden, Colorado  39.756650 -105.224950  \n",
       "..                       ...        ...         ...  \n",
       "77     Saline County, Kansas  38.783790  -97.649908  \n",
       "78  Augusta County, Virginia  38.164451  -79.133895  \n",
       "79      Fannin County, Texas  33.593096  -96.106959  \n",
       "80             Massachusetts  42.358670  -71.718185  \n",
       "81   Hardwick, Massachusetts  42.366740  -72.184940  \n",
       "\n",
       "[82 rows x 8 columns]"
      ]
     },
     "execution_count": 44,
     "metadata": {},
     "output_type": "execute_result"
    }
   ],
   "source": [
    "sb"
   ]
  },
  {
   "cell_type": "markdown",
   "id": "7f5b3f76-69a2-47e9-b8e9-4dad535b5159",
   "metadata": {},
   "source": [
    "# Lets do some data exploratory analysis"
   ]
  },
  {
   "cell_type": "code",
   "execution_count": 45,
   "id": "82f9b640-a3d9-41f0-8bf9-86ddc2f6971f",
   "metadata": {},
   "outputs": [
    {
     "data": {
      "text/plain": [
       "Float64Index([2015.0, 2005.0, 1937.0, 1995.0, 2019.0, 1941.0, 1951.0, 1955.0,\n",
       "              1961.0, 2018.0, 1972.0, 1974.0, 1965.0, 2014.0, 2012.0, 2004.0,\n",
       "              1943.0, 2016.0, 1940.0, 2017.0, 1936.0, 1931.0, 1929.0, 1928.0,\n",
       "              1921.0, 1917.0, 1915.0, 1913.0, 1910.0, 1907.0, 1900.0, 1882.0,\n",
       "              1873.0, 1859.0, 1841.0, 1791.0, 1942.0, 1948.0, 2003.0, 1976.0,\n",
       "              2002.0, 2000.0, 1998.0, 2006.0, 1992.0, 1987.0, 1983.0, 1982.0,\n",
       "              2009.0, 1949.0, 2010.0, 1971.0, 1967.0, 1966.0, 2011.0, 1957.0,\n",
       "              2013.0, 1953.0, 1790.0],\n",
       "             dtype='float64')"
      ]
     },
     "execution_count": 45,
     "metadata": {},
     "output_type": "execute_result"
    }
   ],
   "source": [
    "year_fatal = sb.Date.dt.year.value_counts()\n",
    "year_fatal.index"
   ]
  },
  {
   "cell_type": "code",
   "execution_count": 46,
   "id": "3013b71e-6944-40a5-9b39-5c21475e1499",
   "metadata": {},
   "outputs": [
    {
     "data": {
      "image/png": "[encoded data removed]",
      "text/plain": [
       "<Figure size 1080x504 with 1 Axes>"
      ]
     },
     "metadata": {},
     "output_type": "display_data"
    }
   ],
   "source": [
    "# Year with highest case\n",
    "fig, ax = plt.subplots( figsize = (15, 7))\n",
    "year_fatal.plot(kind = \"bar\", color = 'green')\n",
    "ax.set(title = \"Fatal cases of snake bite by year\", xlabel = 'year', ylabel = \"count\");"
   ]
  },
  {
   "cell_type": "code",
   "execution_count": 47,
   "id": "722fd750-2e66-4c6f-a5dd-881af3c50731",
   "metadata": {},
   "outputs": [
    {
     "name": "stderr",
     "output_type": "stream",
     "text": [
      "C:\\Users\\godwi\\anaconda3\\lib\\site-packages\\seaborn\\_decorators.py:36: FutureWarning: Pass the following variables as keyword args: x, y. From version 0.12, the only valid positional argument will be `data`, and passing other arguments without an explicit keyword will result in an error or misinterpretation.\n",
      "  warnings.warn(\n"
     ]
    },
    {
     "data": {
      "image/png": "[encoded data removed]",
      "text/plain": [
       "<Figure size 720x504 with 1 Axes>"
      ]
     },
     "metadata": {},
     "output_type": "display_data"
    }
   ],
   "source": [
    "# Species of snake bite\n",
    "fig, ax = plt.subplots( figsize = (10, 7))\n",
    "sns.barplot(sb.Species.value_counts() ,sb.Species.value_counts().index)\n",
    "ax.set(title = \"Spiecies of snakes\", xlabel = 'spicie', ylabel = \"count\");"
   ]
  },
  {
   "cell_type": "code",
   "execution_count": 48,
   "id": "5bde7577-914b-40ba-acb8-6ea6d03a480c",
   "metadata": {},
   "outputs": [
    {
     "data": {
      "text/plain": [
       "26"
      ]
     },
     "execution_count": 48,
     "metadata": {},
     "output_type": "execute_result"
    }
   ],
   "source": [
    "sb.Species.nunique()"
   ]
  },
  {
   "cell_type": "markdown",
   "id": "c25a9925-8671-4cd8-bc80-b7476684b0d7",
   "metadata": {},
   "source": [
    "# Cases by Age catagory and Gender"
   ]
  },
  {
   "cell_type": "code",
   "execution_count": 49,
   "id": "b86c6062-e27b-469b-a96c-4be8362be140",
   "metadata": {},
   "outputs": [],
   "source": [
    "sb.Age = pd.to_numeric(sb.Age)"
   ]
  },
  {
   "cell_type": "code",
   "execution_count": 50,
   "id": "7a2a1ad9-d264-4344-bda6-742e4b60c75e",
   "metadata": {},
   "outputs": [],
   "source": [
    "sb.Age = sb.Age.fillna(0).astype(int)"
   ]
  },
  {
   "cell_type": "code",
   "execution_count": 51,
   "id": "2070d2a4-565f-4d70-a128-746ff40c0371",
   "metadata": {},
   "outputs": [],
   "source": [
    "sb['age_class'] = sb.Age.apply(lambda x: \"0-2\" if 0 <= x<2 else\n",
    "                                            \"2-5\" if 2<= x<= 5 else\n",
    "                                            \"6-13\" if 5< x< 13 else\n",
    "                                            \"13-18\" if 13<= x< 18 else\n",
    "                                            \"18-30\" if 18<= x< 30 else\n",
    "                                            \"30-40\" if 30<= x< 40 else\n",
    "                                            \"40-50\" if 40<= x< 50 else\n",
    "                                            \"50-65\" if 50<= x< 65 else\n",
    "                                            \"65+\" if x>= 65 else \"not known\"\n",
    "                                         )"
   ]
  },
  {
   "cell_type": "code",
   "execution_count": 52,
   "id": "0088ef99-4c7f-45f8-82b8-8b75ed37142f",
   "metadata": {},
   "outputs": [
    {
     "data": {
      "text/html": [
       "<div>\n",
       "<style scoped>\n",
       "    .dataframe tbody tr th:only-of-type {\n",
       "        vertical-align: middle;\n",
       "    }\n",
       "\n",
       "    .dataframe tbody tr th {\n",
       "        vertical-align: top;\n",
       "    }\n",
       "\n",
       "    .dataframe thead th {\n",
       "        text-align: right;\n",
       "    }\n",
       "</style>\n",
       "<table border=\"1\" class=\"dataframe\">\n",
       "  <thead>\n",
       "    <tr style=\"text-align: right;\">\n",
       "      <th></th>\n",
       "      <th>Name</th>\n",
       "      <th>Gender</th>\n",
       "      <th>Age</th>\n",
       "      <th>Date</th>\n",
       "      <th>Species</th>\n",
       "      <th>Location</th>\n",
       "      <th>Latitude</th>\n",
       "      <th>Longitude</th>\n",
       "      <th>age_class</th>\n",
       "    </tr>\n",
       "  </thead>\n",
       "  <tbody>\n",
       "    <tr>\n",
       "      <th>0</th>\n",
       "      <td>Priscilla Meridith</td>\n",
       "      <td>female</td>\n",
       "      <td>62</td>\n",
       "      <td>2019-06-12</td>\n",
       "      <td>Timber rattlesnake</td>\n",
       "      <td>Waverly, Georgia</td>\n",
       "      <td>31.096630</td>\n",
       "      <td>-81.725230</td>\n",
       "      <td>50-65</td>\n",
       "    </tr>\n",
       "    <tr>\n",
       "      <th>1</th>\n",
       "      <td>Oliver Chum Baker</td>\n",
       "      <td>male</td>\n",
       "      <td>52</td>\n",
       "      <td>2019-05-25</td>\n",
       "      <td>Copperhead</td>\n",
       "      <td>Winston County, Alabama</td>\n",
       "      <td>34.149258</td>\n",
       "      <td>-87.373724</td>\n",
       "      <td>50-65</td>\n",
       "    </tr>\n",
       "    <tr>\n",
       "      <th>2</th>\n",
       "      <td>Lawrence Walters</td>\n",
       "      <td>male</td>\n",
       "      <td>70</td>\n",
       "      <td>2018-06-04</td>\n",
       "      <td>Rattlesnake</td>\n",
       "      <td>Spearfish, South Dakota</td>\n",
       "      <td>44.490570</td>\n",
       "      <td>-103.859090</td>\n",
       "      <td>65+</td>\n",
       "    </tr>\n",
       "    <tr>\n",
       "      <th>3</th>\n",
       "      <td>Barry Lester</td>\n",
       "      <td>male</td>\n",
       "      <td>57</td>\n",
       "      <td>2018-04-29</td>\n",
       "      <td>Rattlesnake</td>\n",
       "      <td>Osage County, Oklahoma</td>\n",
       "      <td>36.629182</td>\n",
       "      <td>-96.398426</td>\n",
       "      <td>50-65</td>\n",
       "    </tr>\n",
       "    <tr>\n",
       "      <th>4</th>\n",
       "      <td>Daniel Hohs</td>\n",
       "      <td>male</td>\n",
       "      <td>31</td>\n",
       "      <td>2017-10-07</td>\n",
       "      <td>Rattlesnake</td>\n",
       "      <td>Golden, Colorado</td>\n",
       "      <td>39.756650</td>\n",
       "      <td>-105.224950</td>\n",
       "      <td>30-40</td>\n",
       "    </tr>\n",
       "  </tbody>\n",
       "</table>\n",
       "</div>"
      ],
      "text/plain": [
       "                   Name  Gender  Age       Date             Species  \\\n",
       "0  Priscilla Meridith    female   62 2019-06-12  Timber rattlesnake   \n",
       "1   Oliver Chum Baker      male   52 2019-05-25          Copperhead   \n",
       "2    Lawrence Walters      male   70 2018-06-04         Rattlesnake   \n",
       "3        Barry Lester      male   57 2018-04-29         Rattlesnake   \n",
       "4         Daniel Hohs      male   31 2017-10-07         Rattlesnake   \n",
       "\n",
       "                  Location   Latitude   Longitude age_class  \n",
       "0         Waverly, Georgia  31.096630  -81.725230     50-65  \n",
       "1  Winston County, Alabama  34.149258  -87.373724     50-65  \n",
       "2  Spearfish, South Dakota  44.490570 -103.859090       65+  \n",
       "3   Osage County, Oklahoma  36.629182  -96.398426     50-65  \n",
       "4         Golden, Colorado  39.756650 -105.224950     30-40  "
      ]
     },
     "execution_count": 52,
     "metadata": {},
     "output_type": "execute_result"
    }
   ],
   "source": [
    "sb.head()"
   ]
  },
  {
   "cell_type": "code",
   "execution_count": 53,
   "id": "5ba855c2-e63e-4552-8238-044507c8170a",
   "metadata": {},
   "outputs": [
    {
     "data": {
      "text/html": [
       "<div>\n",
       "<style scoped>\n",
       "    .dataframe tbody tr th:only-of-type {\n",
       "        vertical-align: middle;\n",
       "    }\n",
       "\n",
       "    .dataframe tbody tr th {\n",
       "        vertical-align: top;\n",
       "    }\n",
       "\n",
       "    .dataframe thead th {\n",
       "        text-align: right;\n",
       "    }\n",
       "</style>\n",
       "<table border=\"1\" class=\"dataframe\">\n",
       "  <thead>\n",
       "    <tr style=\"text-align: right;\">\n",
       "      <th>Gender</th>\n",
       "      <th>female</th>\n",
       "      <th>male</th>\n",
       "    </tr>\n",
       "    <tr>\n",
       "      <th>age_class</th>\n",
       "      <th></th>\n",
       "      <th></th>\n",
       "    </tr>\n",
       "  </thead>\n",
       "  <tbody>\n",
       "    <tr>\n",
       "      <th>0-2</th>\n",
       "      <td>1</td>\n",
       "      <td>5</td>\n",
       "    </tr>\n",
       "    <tr>\n",
       "      <th>13-18</th>\n",
       "      <td>0</td>\n",
       "      <td>2</td>\n",
       "    </tr>\n",
       "    <tr>\n",
       "      <th>18-30</th>\n",
       "      <td>5</td>\n",
       "      <td>10</td>\n",
       "    </tr>\n",
       "    <tr>\n",
       "      <th>2-5</th>\n",
       "      <td>2</td>\n",
       "      <td>5</td>\n",
       "    </tr>\n",
       "    <tr>\n",
       "      <th>30-40</th>\n",
       "      <td>2</td>\n",
       "      <td>13</td>\n",
       "    </tr>\n",
       "    <tr>\n",
       "      <th>40-50</th>\n",
       "      <td>1</td>\n",
       "      <td>6</td>\n",
       "    </tr>\n",
       "    <tr>\n",
       "      <th>50-65</th>\n",
       "      <td>5</td>\n",
       "      <td>12</td>\n",
       "    </tr>\n",
       "    <tr>\n",
       "      <th>6-13</th>\n",
       "      <td>3</td>\n",
       "      <td>1</td>\n",
       "    </tr>\n",
       "    <tr>\n",
       "      <th>65+</th>\n",
       "      <td>1</td>\n",
       "      <td>8</td>\n",
       "    </tr>\n",
       "  </tbody>\n",
       "</table>\n",
       "</div>"
      ],
      "text/plain": [
       "Gender     female  male\n",
       "age_class              \n",
       "0-2             1     5\n",
       "13-18           0     2\n",
       "18-30           5    10\n",
       "2-5             2     5\n",
       "30-40           2    13\n",
       "40-50           1     6\n",
       "50-65           5    12\n",
       "6-13            3     1\n",
       "65+             1     8"
      ]
     },
     "execution_count": 53,
     "metadata": {},
     "output_type": "execute_result"
    }
   ],
   "source": [
    "tab = pd.crosstab(sb.age_class, sb.Gender).sort_values('age_class', ascending = True, axis =0)\n",
    "tab"
   ]
  },
  {
   "cell_type": "code",
   "execution_count": 54,
   "id": "27d1ba74-4bd1-48cb-8139-9a088a98cc5b",
   "metadata": {},
   "outputs": [
    {
     "data": {
      "image/png": "[encoded data removed]",
      "text/plain": [
       "<Figure size 1008x360 with 1 Axes>"
      ]
     },
     "metadata": {},
     "output_type": "display_data"
    }
   ],
   "source": [
    "fig, ax = plt.subplots( figsize = (14, 5))\n",
    "tab.plot(kind = \"bar\", ax= ax)\n",
    "ax.set(title = \"Case by Age catagory and Gender\", xlabel = 'Category', ylabel = \"count\");"
   ]
  },
  {
   "cell_type": "markdown",
   "id": "ffc65ba8-c383-4604-958e-93ba086a15a4",
   "metadata": {},
   "source": [
    "# Cases by location"
   ]
  },
  {
   "cell_type": "code",
   "execution_count": 55,
   "id": "f88f75c7-00a7-4785-96bb-1806d368d747",
   "metadata": {},
   "outputs": [
    {
     "data": {
      "text/plain": [
       "Middlesboro, Kentucky                2\n",
       "Waverly, Georgia                     1\n",
       "New Hope, Alabama                    1\n",
       "Rocksprings, Texas                   1\n",
       "Bradford, Pennsylvania               1\n",
       "                                    ..\n",
       "Lakewood Ranch, Florida              1\n",
       "Sierra Vista, Arizona                1\n",
       "San Bernardino County, California    1\n",
       "Loachapoka                           1\n",
       "Hardwick, Massachusetts              1\n",
       "Name: Location, Length: 81, dtype: int64"
      ]
     },
     "execution_count": 55,
     "metadata": {},
     "output_type": "execute_result"
    }
   ],
   "source": [
    "sb.Location.value_counts()"
   ]
  },
  {
   "cell_type": "code",
   "execution_count": 56,
   "id": "b1fd3a87-544c-4489-9c62-2a846e560e2c",
   "metadata": {},
   "outputs": [
    {
     "data": {
      "image/png": "[encoded data removed]",
      "text/plain": [
       "<Figure size 1008x360 with 1 Axes>"
      ]
     },
     "metadata": {},
     "output_type": "display_data"
    }
   ],
   "source": [
    "fig, ax = plt.subplots( figsize = (14, 5))\n",
    "sb.Location.value_counts().sort_values(ascending = False)[:10].plot(kind = \"bar\", ax= ax)\n",
    "ax.set(title = \"Case by location\", xlabel = 'location', ylabel = \"count\");"
   ]
  }
 ],
 "metadata": {
  "kernelspec": {
   "display_name": "Python 3",
   "language": "python",
   "name": "python3"
  },
  "language_info": {
   "codemirror_mode": {
    "name": "ipython",
    "version": 3
   },
   "file_extension": ".py",
   "mimetype": "text/x-python",
   "name": "python",
   "nbconvert_exporter": "python",
   "pygments_lexer": "ipython3",
   "version": "3.8.8"
  }
 },
 "nbformat": 4,
 "nbformat_minor": 5
}
